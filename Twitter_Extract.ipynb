{
 "cells": [
  {
   "cell_type": "code",
   "execution_count": 1,
   "metadata": {},
   "outputs": [],
   "source": [
    "import tweepy\n",
    "import json\n",
    "import pandas as pd\n",
    "import csv\n",
    "from os import path\n",
    "#from textblob import TextBlob\n",
    "#from textblob import Word"
   ]
  },
  {
   "cell_type": "code",
   "execution_count": 2,
   "metadata": {},
   "outputs": [],
   "source": [
    "consumer_key = '______________'\n",
    "consumer_secret = '_______________'\n",
    "access_token = '_______________'\n",
    "access_token_secret = '___________________'\n",
    "\n",
    "auth = tweepy.OAuthHandler(consumer_key, consumer_secret)\n",
    "auth.set_access_token(access_token, access_token_secret)\n",
    "api = tweepy.API(auth, wait_on_rate_limit=True)\n",
    "extracted_tweets = []\n",
    "search_filter = \"-filter:retweets\""
   ]
  },
  {
   "cell_type": "code",
   "execution_count": 3,
   "metadata": {},
   "outputs": [],
   "source": [
    "def extract_tweets(search_filter):\n",
    "    try:\n",
    "        get_tweets = []\n",
    "        for tweet in tweepy.Cursor (api.search, q = search_filter,lang = \"en\").items(10): \n",
    "            get_tweets.append(tweet)\n",
    "        return get_tweets\n",
    "    except:\n",
    "        print(\"Time out error caught.\")"
   ]
  },
  {
   "cell_type": "code",
   "execution_count": 4,
   "metadata": {},
   "outputs": [],
   "source": [
    "def tweets_df(raw_tweets):\n",
    "    #Select specified data from JSON format of tweet to Dataframe\n",
    "    id_list = [tweet.id for tweet in raw_tweets]\n",
    "    organised_tweets = pd.DataFrame(id_list, columns = [\"id\"])\n",
    "    organised_tweets[\"text\"] = [tweet.text for tweet in raw_tweets]\n",
    "    organised_tweets[\"created_at\"] = [tweet.created_at for tweet in raw_tweets]\n",
    "    organised_tweets[\"retweet_count\"] = [tweet.retweet_count for tweet in raw_tweets]\n",
    "    organised_tweets[\"user_location\"] = [tweet.author.location for tweet in raw_tweets]\n",
    "    organised_tweets[\"Hashtags\"] = [tweet.entities.get('hashtags') for tweet in raw_tweets]\n",
    "    return organised_tweets"
   ]
  },
  {
   "cell_type": "code",
   "execution_count": 5,
   "metadata": {},
   "outputs": [],
   "source": [
    "def organize_data(raw_tweets):\n",
    "    organised_tweets_df = tweets_df(raw_tweets)\n",
    "    text = organised_tweets_df[\"text\"]\n",
    "    #Remove https link from tweets\n",
    "    for i in range(0,len(text)):\n",
    "        txt = ' '.join(word for word in text[i] .split() if not word.startswith('https:'))\n",
    "        organised_tweets_df.at[i, 'text2'] = txt\n",
    "    # Remove tweets with duplicate text\n",
    "    organised_tweets_df.drop_duplicates('text2', inplace=True)\n",
    "    organised_tweets_df.reset_index(drop = True, inplace=True)\n",
    "    organised_tweets_df.drop('text', axis = 1, inplace = True)\n",
    "    organised_tweets_df.rename(columns={'text2': 'text'}, inplace=True)\n",
    "    return organised_tweets_df"
   ]
  },
  {
   "cell_type": "code",
   "execution_count": 6,
   "metadata": {},
   "outputs": [],
   "source": [
    "def create_csv():\n",
    "    extracted_tweets = extract_tweets(search_filter)\n",
    "    sample_data = organize_data(extracted_tweets)\n",
    "    sample_data.to_csv(r'Twitter_Data.csv', index = False)"
   ]
  },
  {
   "cell_type": "code",
   "execution_count": 7,
   "metadata": {},
   "outputs": [],
   "source": [
    "def append_tocsv():\n",
    "    extracted_tweets = extract_tweets(search_filter)\n",
    "    sample_data = organize_data(extracted_tweets)\n",
    "    current_data = pd.read_csv('Twitter_Data.csv')\n",
    "    sample_data = sample_data[sample_data['created_at'] >= current_data.created_at.max()]\n",
    "    sample_data.to_csv(r'Twitter_Data.csv', index = False, mode = 'a', header = False)"
   ]
  },
  {
   "cell_type": "code",
   "execution_count": 8,
   "metadata": {},
   "outputs": [],
   "source": [
    "if path.exists('Twitter_Data.csv'):\n",
    "    append_tocsv()\n",
    "else:\n",
    "    create_csv()"
   ]
  },
  {
   "cell_type": "code",
   "execution_count": null,
   "metadata": {},
   "outputs": [],
   "source": []
  }
 ],
 "metadata": {
  "kernelspec": {
   "display_name": "Python 3",
   "language": "python",
   "name": "python3"
  },
  "language_info": {
   "codemirror_mode": {
    "name": "ipython",
    "version": 3
   },
   "file_extension": ".py",
   "mimetype": "text/x-python",
   "name": "python",
   "nbconvert_exporter": "python",
   "pygments_lexer": "ipython3",
   "version": "3.7.3"
  }
 },
 "nbformat": 4,
 "nbformat_minor": 2
}
